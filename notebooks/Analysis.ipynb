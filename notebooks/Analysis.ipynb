{
 "cells": [
  {
   "cell_type": "code",
   "execution_count": 1,
   "id": "immediate-preparation",
   "metadata": {},
   "outputs": [
    {
     "data": {
      "text/html": [
       "\n",
       "      <iframe id=\"tensorboard-frame-36ee7fc4232d16a7\" width=\"100%\" height=\"800\" frameborder=\"0\">\n",
       "      </iframe>\n",
       "      <script>\n",
       "        (function() {\n",
       "          const frame = document.getElementById(\"tensorboard-frame-36ee7fc4232d16a7\");\n",
       "          const url = new URL(\"/\", window.location);\n",
       "          const port = 6006;\n",
       "          if (port) {\n",
       "            url.port = port;\n",
       "          }\n",
       "          frame.src = url;\n",
       "        })();\n",
       "      </script>\n",
       "    "
      ],
      "text/plain": [
       "<IPython.core.display.HTML object>"
      ]
     },
     "metadata": {},
     "output_type": "display_data"
    }
   ],
   "source": [
    "%load_ext tensorboard\n",
    "%tensorboard --logdir=/home/adong/hdrnet-pytorch/jho_logs/lightning_logs/version_1912216/"
   ]
  },
  {
   "cell_type": "markdown",
   "id": "recovered-trail",
   "metadata": {},
   "source": [
    "# Import statements"
   ]
  },
  {
   "cell_type": "code",
   "execution_count": 1,
   "id": "knowing-pattern",
   "metadata": {},
   "outputs": [],
   "source": [
    "import sys\n",
    "sys.path.append('..')\n",
    "from model_building import HDRPointwiseNN\n",
    "from dataset import HDRDataset\n",
    "import os\n",
    "from PIL import Image\n",
    "import math\n",
    "import torch\n",
    "from torch.utils.data import Dataset, DataLoader,random_split\n",
    "from torchvision import transforms\n",
    "\n",
    "import matplotlib.pyplot as plt\n",
    "from mpl_toolkits.axes_grid1 import ImageGrid\n",
    "\n",
    "from utils import plot_one_image,plot_batch_of_images"
   ]
  },
  {
   "cell_type": "markdown",
   "id": "broadband-portsmouth",
   "metadata": {},
   "source": [
    "# Load some validation pictures"
   ]
  },
  {
   "cell_type": "code",
   "execution_count": 2,
   "id": "acknowledged-theory",
   "metadata": {},
   "outputs": [],
   "source": [
    "#image_path = '/home/adong/Downloads/carlos.png'\n",
    "image_path = '/home/adong/hdrnet-pytorch/data/tiny_original/DSC_4329.jpg'\n",
    "\n",
    "#model_path = r'E:\\Projects\\hdrnet-pytorch\\jho_logs\\lightning_logs\\version_1701084\\checkpoints\\epoch=25-step=1044.ckpt' \n",
    "model_path = '/home/adong/hdrnet-pytorch/jho_logs/lightning_logs/version_1912216/checkpoints/epoch=28-step=1167.ckpt'\n"
   ]
  },
  {
   "cell_type": "code",
   "execution_count": null,
   "id": "continental-database",
   "metadata": {},
   "outputs": [],
   "source": [
    "plot_one_image(image_path,model_path)"
   ]
  },
  {
   "cell_type": "code",
   "execution_count": null,
   "id": "ranking-employee",
   "metadata": {},
   "outputs": [],
   "source": [
    "orig_photos_path = 'E:\\Projects\\StyleTransfer\\justinho_dataset_processed\\small_original_reduced_size'\n",
    "target_photos_path = 'E:\\Projects\\StyleTransfer\\justinho_dataset_processed\\small_edited_reduced_size'\n",
    "\n",
    "dataset = HDRDataset(orig_photos_path,target_photos_path)\n",
    "dataset_length = len(dataset)\n",
    "train_length = math.ceil(.8 *dataset_length)\n",
    "val_length = dataset_length-train_length\n",
    "train_set, val_set = random_split(dataset, [train_length, val_length], generator=torch.Generator().manual_seed(42))\n",
    "\n",
    "train_loader = DataLoader(train_set, batch_size = 4)\n",
    "val_loader =  DataLoader(val_set, batch_size = 4)"
   ]
  },
  {
   "cell_type": "code",
   "execution_count": null,
   "id": "united-maryland",
   "metadata": {},
   "outputs": [],
   "source": [
    "plot_batch_of_images(val_loader,model_path)"
   ]
  },
  {
   "cell_type": "code",
   "execution_count": null,
   "id": "electric-developer",
   "metadata": {},
   "outputs": [],
   "source": []
  },
  {
   "cell_type": "code",
   "execution_count": null,
   "id": "missing-married",
   "metadata": {},
   "outputs": [],
   "source": []
  },
  {
   "cell_type": "code",
   "execution_count": null,
   "id": "similar-shock",
   "metadata": {},
   "outputs": [],
   "source": []
  },
  {
   "cell_type": "code",
   "execution_count": null,
   "id": "sufficient-steel",
   "metadata": {},
   "outputs": [],
   "source": []
  },
  {
   "cell_type": "code",
   "execution_count": null,
   "id": "junior-rates",
   "metadata": {},
   "outputs": [],
   "source": []
  }
 ],
 "metadata": {
  "kernelspec": {
   "display_name": "Python 3",
   "language": "python",
   "name": "python3"
  },
  "language_info": {
   "codemirror_mode": {
    "name": "ipython",
    "version": 3
   },
   "file_extension": ".py",
   "mimetype": "text/x-python",
   "name": "python",
   "nbconvert_exporter": "python",
   "pygments_lexer": "ipython3",
   "version": "3.8.5"
  }
 },
 "nbformat": 4,
 "nbformat_minor": 5
}
